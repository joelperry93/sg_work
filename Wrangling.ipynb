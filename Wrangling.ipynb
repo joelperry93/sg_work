{
 "cells": [
  {
   "cell_type": "code",
   "execution_count": 2,
   "metadata": {
    "ExecuteTime": {
     "end_time": "2021-01-07T19:57:12.426403Z",
     "start_time": "2021-01-07T19:57:12.420338Z"
    }
   },
   "outputs": [],
   "source": [
    "import pandas as pd\n",
    "import numpy as np\n",
    "\n",
    "# Function to convert odd price values found in spreadsheets\n",
    "\n",
    "def clean_weird_values(input_string):\n",
    "    bad_values = ['length price', '$/ea.']\n",
    "    if input_string in bad_values: \n",
    "        return np.nan\n",
    "    else: \n",
    "        return str(input_string)\n",
    "    \n",
    "def convert_dollars(input_string):\n",
    "    return input_string.replace('$','')\n",
    "\n",
    "def createDF(supplier):\n",
    "    key = supplier_excel_dict[supplier]\n",
    "    df = pd.read_excel(key['file_path'], header = key['header'])\n",
    "    df = df[[df.columns[key['frame']], df.columns[key['price']]]]\n",
    "    df.columns = ['frame', 'price']\n",
    "    df['supplier'] = supplier\n",
    "    # key['df'] = df\n",
    "    return df\n",
    "\n",
    "suppliers = ['picture_woods', 'frametastic', 'studio', 'presto', 'fotiou',\n",
    "            'decor', 'nurre_caxton']"
   ]
  },
  {
   "cell_type": "markdown",
   "metadata": {
    "ExecuteTime": {
     "end_time": "2021-01-07T00:05:56.938844Z",
     "start_time": "2021-01-07T00:05:56.935075Z"
    }
   },
   "source": [
    "## Picture Woods"
   ]
  },
  {
   "cell_type": "code",
   "execution_count": 4,
   "metadata": {
    "ExecuteTime": {
     "end_time": "2021-01-07T19:58:35.564768Z",
     "start_time": "2021-01-07T19:58:35.229041Z"
    }
   },
   "outputs": [
    {
     "output_type": "execute_result",
     "data": {
      "text/plain": "    frame  price       supplier\n0   004A2   1.31  picture_woods\n1  004ACG   2.40  picture_woods\n2  004ACL   2.17  picture_woods\n3  004ASB   2.40  picture_woods\n4  004AWW   2.41  picture_woods",
      "text/html": "<div>\n<style scoped>\n    .dataframe tbody tr th:only-of-type {\n        vertical-align: middle;\n    }\n\n    .dataframe tbody tr th {\n        vertical-align: top;\n    }\n\n    .dataframe thead th {\n        text-align: right;\n    }\n</style>\n<table border=\"1\" class=\"dataframe\">\n  <thead>\n    <tr style=\"text-align: right;\">\n      <th></th>\n      <th>frame</th>\n      <th>price</th>\n      <th>supplier</th>\n    </tr>\n  </thead>\n  <tbody>\n    <tr>\n      <th>0</th>\n      <td>004A2</td>\n      <td>1.31</td>\n      <td>picture_woods</td>\n    </tr>\n    <tr>\n      <th>1</th>\n      <td>004ACG</td>\n      <td>2.40</td>\n      <td>picture_woods</td>\n    </tr>\n    <tr>\n      <th>2</th>\n      <td>004ACL</td>\n      <td>2.17</td>\n      <td>picture_woods</td>\n    </tr>\n    <tr>\n      <th>3</th>\n      <td>004ASB</td>\n      <td>2.40</td>\n      <td>picture_woods</td>\n    </tr>\n    <tr>\n      <th>4</th>\n      <td>004AWW</td>\n      <td>2.41</td>\n      <td>picture_woods</td>\n    </tr>\n  </tbody>\n</table>\n</div>"
     },
     "metadata": {},
     "execution_count": 4
    }
   ],
   "source": [
    "picture_woods = pd.read_excel('./price lists/2020 Picture Woods Price List_Framing Software Vendors-Rev.xlsx')\n",
    "picture_woods = picture_woods[[picture_woods.columns[0], picture_woods.columns[2]]]\n",
    "picture_woods.columns = ['frame', 'price']\n",
    "picture_woods['supplier'] = 'picture_woods'\n",
    "picture_woods['price'] = picture_woods['price'].apply(lambda x: clean_weird_values(x))\n",
    "picture_woods = picture_woods.dropna()\n",
    "picture_woods['price'] = picture_woods['price'].apply(lambda x: float(convert_dollars(x)))\n",
    "picture_woods.head()"
   ]
  },
  {
   "cell_type": "code",
   "execution_count": 179,
   "metadata": {
    "tags": [
     "outputPrepend"
    ]
   },
   "outputs": [
    {
     "output_type": "execute_result",
     "data": {
      "text/plain": "      0                             1     2     3     4\n0  A107            1 INCH FLAT SILVER  1.96  3.56  3.81\n1  A129    1 INCH ROUNDED SATIN BLACK  1.19  2.16  2.41\n2  A139      1 INCH FLAT SILVER TILES  1.83  3.32  3.57\n3  A152     1 INCH FLAT SILVER ORNATE  2.17  3.92  4.17\n4  A291  MAROON LAQUER WITH GOLD TRIM  2.82  5.17  5.42",
      "text/html": "<div>\n<style scoped>\n    .dataframe tbody tr th:only-of-type {\n        vertical-align: middle;\n    }\n\n    .dataframe tbody tr th {\n        vertical-align: top;\n    }\n\n    .dataframe thead th {\n        text-align: right;\n    }\n</style>\n<table border=\"1\" class=\"dataframe\">\n  <thead>\n    <tr style=\"text-align: right;\">\n      <th></th>\n      <th>0</th>\n      <th>1</th>\n      <th>2</th>\n      <th>3</th>\n      <th>4</th>\n    </tr>\n  </thead>\n  <tbody>\n    <tr>\n      <th>0</th>\n      <td>A107</td>\n      <td>1 INCH FLAT SILVER</td>\n      <td>1.96</td>\n      <td>3.56</td>\n      <td>3.81</td>\n    </tr>\n    <tr>\n      <th>1</th>\n      <td>A129</td>\n      <td>1 INCH ROUNDED SATIN BLACK</td>\n      <td>1.19</td>\n      <td>2.16</td>\n      <td>2.41</td>\n    </tr>\n    <tr>\n      <th>2</th>\n      <td>A139</td>\n      <td>1 INCH FLAT SILVER TILES</td>\n      <td>1.83</td>\n      <td>3.32</td>\n      <td>3.57</td>\n    </tr>\n    <tr>\n      <th>3</th>\n      <td>A152</td>\n      <td>1 INCH FLAT SILVER ORNATE</td>\n      <td>2.17</td>\n      <td>3.92</td>\n      <td>4.17</td>\n    </tr>\n    <tr>\n      <th>4</th>\n      <td>A291</td>\n      <td>MAROON LAQUER WITH GOLD TRIM</td>\n      <td>2.82</td>\n      <td>5.17</td>\n      <td>5.42</td>\n    </tr>\n  </tbody>\n</table>\n</div>"
     },
     "metadata": {},
     "execution_count": 179
    }
   ],
   "source": [
    "import tabula\n",
    "\n",
    "file_path = './2021-price-lists/Global/Wood Pricing Global Art - 9-12-2019.pdf'\n",
    "df = tabula.read_pdf(file_path, \n",
    "                    pages=list(np.arange(1,6,1)),\n",
    "                    guess=True,\n",
    "                    stream=True,\n",
    "                    pandas_options={'header':0},\n",
    "                    multiple_tables=False\n",
    "                    )\n",
    "df = pd.concat(df)\n",
    "df.loc[len(df)] = df.columns\n",
    "df.columns = [0, 1, 2, 3 ,4]\n",
    "df.head()\n"
   ]
  },
  {
   "cell_type": "code",
   "execution_count": 152,
   "metadata": {},
   "outputs": [
    {
     "output_type": "execute_result",
     "data": {
      "text/plain": "('Item #', 'Length')"
     },
     "metadata": {},
     "execution_count": 152
    }
   ],
   "source": [
    "df.columns[0],df.columns[6]"
   ]
  },
  {
   "cell_type": "code",
   "execution_count": 175,
   "metadata": {},
   "outputs": [
    {
     "output_type": "execute_result",
     "data": {
      "text/plain": "'1.61'"
     },
     "metadata": {},
     "execution_count": 175
    }
   ],
   "source": []
  },
  {
   "cell_type": "code",
   "execution_count": 170,
   "metadata": {},
   "outputs": [
    {
     "output_type": "execute_result",
     "data": {
      "text/plain": "     220SATBLA  1.5  G220 SATIN BLACK  3.05  1.61\n169   81NEWBLU    1   81 NEWPORT BLUE  2.45  1.48\n170      81PER    1     81 PERIWINKLE  2.45  1.48\n171   81SATBLA    1    81 SATIN BLACK  2.25  1.44\n172   81SATCOP    1   81 SATIN COPPER  2.28  1.37\n173  220SATBLA  1.5  G220 SATIN BLACK  3.05  1.61",
      "text/html": "<div>\n<style scoped>\n    .dataframe tbody tr th:only-of-type {\n        vertical-align: middle;\n    }\n\n    .dataframe tbody tr th {\n        vertical-align: top;\n    }\n\n    .dataframe thead th {\n        text-align: right;\n    }\n</style>\n<table border=\"1\" class=\"dataframe\">\n  <thead>\n    <tr style=\"text-align: right;\">\n      <th></th>\n      <th>220SATBLA</th>\n      <th>1.5</th>\n      <th>G220 SATIN BLACK</th>\n      <th>3.05</th>\n      <th>1.61</th>\n    </tr>\n  </thead>\n  <tbody>\n    <tr>\n      <th>169</th>\n      <td>81NEWBLU</td>\n      <td>1</td>\n      <td>81 NEWPORT BLUE</td>\n      <td>2.45</td>\n      <td>1.48</td>\n    </tr>\n    <tr>\n      <th>170</th>\n      <td>81PER</td>\n      <td>1</td>\n      <td>81 PERIWINKLE</td>\n      <td>2.45</td>\n      <td>1.48</td>\n    </tr>\n    <tr>\n      <th>171</th>\n      <td>81SATBLA</td>\n      <td>1</td>\n      <td>81 SATIN BLACK</td>\n      <td>2.25</td>\n      <td>1.44</td>\n    </tr>\n    <tr>\n      <th>172</th>\n      <td>81SATCOP</td>\n      <td>1</td>\n      <td>81 SATIN COPPER</td>\n      <td>2.28</td>\n      <td>1.37</td>\n    </tr>\n    <tr>\n      <th>173</th>\n      <td>220SATBLA</td>\n      <td>1.5</td>\n      <td>G220 SATIN BLACK</td>\n      <td>3.05</td>\n      <td>1.61</td>\n    </tr>\n  </tbody>\n</table>\n</div>"
     },
     "metadata": {},
     "execution_count": 170
    }
   ],
   "source": []
  },
  {
   "cell_type": "code",
   "execution_count": 181,
   "metadata": {},
   "outputs": [],
   "source": [
    "import json\n",
    "\n",
    "with open('suppliers.JSON', 'r') as f:\n",
    "    supplier_dict = json.load(f)"
   ]
  },
  {
   "cell_type": "code",
   "execution_count": 188,
   "metadata": {},
   "outputs": [
    {
     "output_type": "error",
     "ename": "TypeError",
     "evalue": "'builtin_function_or_method' object is not iterable",
     "traceback": [
      "\u001b[0;31m---------------------------------------------------------------------------\u001b[0m",
      "\u001b[0;31mTypeError\u001b[0m                                 Traceback (most recent call last)",
      "\u001b[0;32m<ipython-input-188-c8c910005687>\u001b[0m in \u001b[0;36m<module>\u001b[0;34m\u001b[0m\n\u001b[0;32m----> 1\u001b[0;31m \u001b[0;32mfor\u001b[0m \u001b[0mi\u001b[0m \u001b[0;32min\u001b[0m \u001b[0msupplier_dict\u001b[0m\u001b[0;34m.\u001b[0m\u001b[0mkeys\u001b[0m\u001b[0;34m:\u001b[0m\u001b[0;34m\u001b[0m\u001b[0;34m\u001b[0m\u001b[0m\n\u001b[0m\u001b[1;32m      2\u001b[0m     \u001b[0mprint\u001b[0m\u001b[0;34m(\u001b[0m\u001b[0msupplier_dict\u001b[0m\u001b[0;34m[\u001b[0m\u001b[0mi\u001b[0m\u001b[0;34m]\u001b[0m\u001b[0;34m[\u001b[0m\u001b[0;34m'method'\u001b[0m\u001b[0;34m]\u001b[0m\u001b[0;34m)\u001b[0m\u001b[0;34m\u001b[0m\u001b[0;34m\u001b[0m\u001b[0m\n",
      "\u001b[0;31mTypeError\u001b[0m: 'builtin_function_or_method' object is not iterable"
     ]
    }
   ],
   "source": [
    "for i in supplier_dict.keys:\n",
    "    print(supplier_dict[i]['method'])"
   ]
  },
  {
   "cell_type": "code",
   "execution_count": 195,
   "metadata": {},
   "outputs": [
    {
     "output_type": "execute_result",
     "data": {
      "text/plain": "['roma',\n 'universal',\n 'omega',\n 'bella',\n 'global metal',\n 'global wood',\n 'picture_woods',\n 'frametastic',\n 'studio',\n 'presto',\n 'fotiou',\n 'decor',\n 'nurre_caxton',\n 'nielsen',\n 'southwest',\n 'larson juhl']"
     },
     "metadata": {},
     "execution_count": 195
    }
   ],
   "source": [
    "list(supplier_dict.keys())"
   ]
  },
  {
   "cell_type": "code",
   "execution_count": 275,
   "metadata": {
    "tags": [
     "outputPrepend"
    ]
   },
   "outputs": [
    {
     "output_type": "execute_result",
     "data": {
      "text/plain": "Index(['Number', 'Unnamed: 0', 'Unnamed: 1', 'Unnamed: 2', 'Unnamed: 3',\n       'Unnamed: 4', 'Unnamed: 5', 'Lin Ft', 'Unnamed: 6', 'Lin Ft.1',\n       'Lin Ft.2', 'Cut', 'Number.1', 'Unnamed: 7', 'Unnamed: 8', 'Unnamed: 9',\n       'Unnamed: 10', 'Unnamed: 11', 'Unnamed: 12', 'Unnamed: 13',\n       'Unnamed: 14', 'Unnamed: 15', 'Unnamed: 16', 'Lin Ft.3', 'Unnamed: 17',\n       'Lin Ft.4', 'Lin Ft.5', 'Cut.1', 'Number.2', 'Unnamed: 18',\n       'Unnamed: 19', 'Unnamed: 20', 'Unnamed: 21', 'Unnamed: 22',\n       'Unnamed: 23', 'Unnamed: 24', 'Unnamed: 25', 'Unnamed: 26',\n       'Unnamed: 27', 'Lin Ft.6', 'Unnamed: 28', 'Lin Ft.7', 'Lin Ft.8',\n       'Cut.2'],\n      dtype='object')"
     },
     "metadata": {},
     "execution_count": 275
    }
   ],
   "source": [
    "root = './2021-price-lists/'\n",
    "\n",
    "file_path = root + \"Foster_wholesalepricelist_2018.pdf\"\n",
    "df = tabula.read_pdf(file_path,\n",
    "                    pages=list(np.arange(1,3,1)),\n",
    "                    guess=True,\n",
    "                    stream=True,\n",
    "                    multiple_tables=True,\n",
    "                    pandas_options={'header':1}\n",
    "                    )\n",
    "df = pd.concat(df)\n",
    "#df = df[['Item', 'List']]\n",
    "# df.columns = ['frame', 'price']\n",
    "# df['supplier'] = 'universal'\n",
    "df.columns"
   ]
  },
  {
   "cell_type": "code",
   "execution_count": 278,
   "metadata": {},
   "outputs": [
    {
     "output_type": "execute_result",
     "data": {
      "text/plain": "         Number      Cut     Number.1    Cut.1            Number.2    Cut.2\n0      Moulding    Miter     Moulding    Miter            Moulding    Miter\n1         11...  .  7.77     606--3\".  .  5.64              720...  .  2.73\n2         23...  .  5.78  606--3-1/2\"  .  6.17              722...  .  5.78\n3         43...  .  8.06     606--4\".  .  6.75              723...  .  6.11\n4         44...  . 12.50  606--4-1/2\"  .  7.47              724...  .  7.02\n..          ...      ...          ...      ...                 ...      ...\n78       597...  .  4.58        714..  .  5.42         2\" Barstock  .  2.16\n79       599...  .  4.25        715..  .  4.17         3\" Barstock  .  4.49\n80       603...  .  7.14        716..  .  4.47  Dual-Size Barstock  .  4.47\n81     606--2\".  .  4.67        717..  .  2.73       1-3/4\" Barcap  .  4.26\n82  606--2-1/2\"  .  5.13        719..  .  4.17                 NaN      NaN\n\n[83 rows x 6 columns]",
      "text/html": "<div>\n<style scoped>\n    .dataframe tbody tr th:only-of-type {\n        vertical-align: middle;\n    }\n\n    .dataframe tbody tr th {\n        vertical-align: top;\n    }\n\n    .dataframe thead th {\n        text-align: right;\n    }\n</style>\n<table border=\"1\" class=\"dataframe\">\n  <thead>\n    <tr style=\"text-align: right;\">\n      <th></th>\n      <th>Number</th>\n      <th>Cut</th>\n      <th>Number.1</th>\n      <th>Cut.1</th>\n      <th>Number.2</th>\n      <th>Cut.2</th>\n    </tr>\n  </thead>\n  <tbody>\n    <tr>\n      <th>0</th>\n      <td>Moulding</td>\n      <td>Miter</td>\n      <td>Moulding</td>\n      <td>Miter</td>\n      <td>Moulding</td>\n      <td>Miter</td>\n    </tr>\n    <tr>\n      <th>1</th>\n      <td>11...</td>\n      <td>.  7.77</td>\n      <td>606--3\".</td>\n      <td>.  5.64</td>\n      <td>720...</td>\n      <td>.  2.73</td>\n    </tr>\n    <tr>\n      <th>2</th>\n      <td>23...</td>\n      <td>.  5.78</td>\n      <td>606--3-1/2\"</td>\n      <td>.  6.17</td>\n      <td>722...</td>\n      <td>.  5.78</td>\n    </tr>\n    <tr>\n      <th>3</th>\n      <td>43...</td>\n      <td>.  8.06</td>\n      <td>606--4\".</td>\n      <td>.  6.75</td>\n      <td>723...</td>\n      <td>.  6.11</td>\n    </tr>\n    <tr>\n      <th>4</th>\n      <td>44...</td>\n      <td>. 12.50</td>\n      <td>606--4-1/2\"</td>\n      <td>.  7.47</td>\n      <td>724...</td>\n      <td>.  7.02</td>\n    </tr>\n    <tr>\n      <th>...</th>\n      <td>...</td>\n      <td>...</td>\n      <td>...</td>\n      <td>...</td>\n      <td>...</td>\n      <td>...</td>\n    </tr>\n    <tr>\n      <th>78</th>\n      <td>597...</td>\n      <td>.  4.58</td>\n      <td>714..</td>\n      <td>.  5.42</td>\n      <td>2\" Barstock</td>\n      <td>.  2.16</td>\n    </tr>\n    <tr>\n      <th>79</th>\n      <td>599...</td>\n      <td>.  4.25</td>\n      <td>715..</td>\n      <td>.  4.17</td>\n      <td>3\" Barstock</td>\n      <td>.  4.49</td>\n    </tr>\n    <tr>\n      <th>80</th>\n      <td>603...</td>\n      <td>.  7.14</td>\n      <td>716..</td>\n      <td>.  4.47</td>\n      <td>Dual-Size Barstock</td>\n      <td>.  4.47</td>\n    </tr>\n    <tr>\n      <th>81</th>\n      <td>606--2\".</td>\n      <td>.  4.67</td>\n      <td>717..</td>\n      <td>.  2.73</td>\n      <td>1-3/4\" Barcap</td>\n      <td>.  4.26</td>\n    </tr>\n    <tr>\n      <th>82</th>\n      <td>606--2-1/2\"</td>\n      <td>.  5.13</td>\n      <td>719..</td>\n      <td>.  4.17</td>\n      <td>NaN</td>\n      <td>NaN</td>\n    </tr>\n  </tbody>\n</table>\n<p>83 rows × 6 columns</p>\n</div>"
     },
     "metadata": {},
     "execution_count": 278
    }
   ],
   "source": [
    "df[['Number', 'Cut', 'Number.1', 'Cut.1', 'Number.2', 'Cut.2']]"
   ]
  },
  {
   "cell_type": "code",
   "execution_count": 253,
   "metadata": {},
   "outputs": [
    {
     "output_type": "execute_result",
     "data": {
      "text/plain": "nan"
     },
     "metadata": {},
     "execution_count": 253
    }
   ],
   "source": [
    "import regex as re\n",
    "\n",
    "def special_match(input_string):\n",
    "    search=re.compile('[^0-9.]').search\n",
    "    if not bool(search(input_string)):\n",
    "        return input_string\n",
    "    else:\n",
    "        return np.nan\n",
    "\n",
    "\n",
    "special_match('gah 12.0')\n"
   ]
  },
  {
   "cell_type": "code",
   "execution_count": 279,
   "metadata": {},
   "outputs": [
    {
     "output_type": "error",
     "ename": "AttributeError",
     "evalue": "'str' object has no attribute 'apply'",
     "traceback": [
      "\u001b[0;31m---------------------------------------------------------------------------\u001b[0m",
      "\u001b[0;31mAttributeError\u001b[0m                            Traceback (most recent call last)",
      "\u001b[0;32m<ipython-input-279-1b25d3ae2ba7>\u001b[0m in \u001b[0;36m<module>\u001b[0;34m\u001b[0m\n\u001b[0;32m----> 1\u001b[0;31m \u001b[0;34m'joey'\u001b[0m\u001b[0;34m.\u001b[0m\u001b[0mapply\u001b[0m\u001b[0;34m(\u001b[0m\u001b[0;32mlambda\u001b[0m \u001b[0mx\u001b[0m\u001b[0;34m:\u001b[0m \u001b[0mstr\u001b[0m\u001b[0;34m(\u001b[0m\u001b[0mx\u001b[0m\u001b[0;34m)\u001b[0m\u001b[0;34m)\u001b[0m\u001b[0;34m\u001b[0m\u001b[0;34m\u001b[0m\u001b[0m\n\u001b[0m",
      "\u001b[0;31mAttributeError\u001b[0m: 'str' object has no attribute 'apply'"
     ]
    }
   ],
   "source": [
    "'joey'.apply(lambda x: str(x))"
   ]
  },
  {
   "cell_type": "code",
   "execution_count": 14,
   "metadata": {},
   "outputs": [
    {
     "output_type": "execute_result",
     "data": {
      "text/plain": "      Item Number Length\n0     015-100-001  $1.82\n1     015-167-001  $1.66\n2     015-282-001  $1.44\n3     015-383-001  $1.44\n4     015-483-001  $1.82\n...           ...    ...\n2598       503128  $0.00\n2599        F6153  $2.25\n2600        F6161  $2.25\n2601        F9047  $2.20\n2602          NaN    NaN\n\n[2603 rows x 2 columns]",
      "text/html": "<div>\n<style scoped>\n    .dataframe tbody tr th:only-of-type {\n        vertical-align: middle;\n    }\n\n    .dataframe tbody tr th {\n        vertical-align: top;\n    }\n\n    .dataframe thead th {\n        text-align: right;\n    }\n</style>\n<table border=\"1\" class=\"dataframe\">\n  <thead>\n    <tr style=\"text-align: right;\">\n      <th></th>\n      <th>Item Number</th>\n      <th>Length</th>\n    </tr>\n  </thead>\n  <tbody>\n    <tr>\n      <th>0</th>\n      <td>015-100-001</td>\n      <td>$1.82</td>\n    </tr>\n    <tr>\n      <th>1</th>\n      <td>015-167-001</td>\n      <td>$1.66</td>\n    </tr>\n    <tr>\n      <th>2</th>\n      <td>015-282-001</td>\n      <td>$1.44</td>\n    </tr>\n    <tr>\n      <th>3</th>\n      <td>015-383-001</td>\n      <td>$1.44</td>\n    </tr>\n    <tr>\n      <th>4</th>\n      <td>015-483-001</td>\n      <td>$1.82</td>\n    </tr>\n    <tr>\n      <th>...</th>\n      <td>...</td>\n      <td>...</td>\n    </tr>\n    <tr>\n      <th>2598</th>\n      <td>503128</td>\n      <td>$0.00</td>\n    </tr>\n    <tr>\n      <th>2599</th>\n      <td>F6153</td>\n      <td>$2.25</td>\n    </tr>\n    <tr>\n      <th>2600</th>\n      <td>F6161</td>\n      <td>$2.25</td>\n    </tr>\n    <tr>\n      <th>2601</th>\n      <td>F9047</td>\n      <td>$2.20</td>\n    </tr>\n    <tr>\n      <th>2602</th>\n      <td>NaN</td>\n      <td>NaN</td>\n    </tr>\n  </tbody>\n</table>\n<p>2603 rows × 2 columns</p>\n</div>"
     },
     "metadata": {},
     "execution_count": 14
    }
   ],
   "source": [
    "pd.read_excel('./2021-price-lists/valley moulding price list 2-2021.xlsx', header=6)[['Item Number', 'Length']]"
   ]
  },
  {
   "cell_type": "code",
   "execution_count": null,
   "metadata": {},
   "outputs": [],
   "source": []
  }
 ],
 "metadata": {
  "kernelspec": {
   "display_name": "Python 3",
   "language": "python",
   "name": "python3"
  },
  "language_info": {
   "codemirror_mode": {
    "name": "ipython",
    "version": 3
   },
   "file_extension": ".py",
   "mimetype": "text/x-python",
   "name": "python",
   "nbconvert_exporter": "python",
   "pygments_lexer": "ipython3",
   "version": "3.7.6"
  }
 },
 "nbformat": 4,
 "nbformat_minor": 4
}